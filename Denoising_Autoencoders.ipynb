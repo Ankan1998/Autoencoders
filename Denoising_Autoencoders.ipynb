{
  "nbformat": 4,
  "nbformat_minor": 0,
  "metadata": {
    "colab": {
      "name": "Denoising Autoencoders.ipynb",
      "provenance": [],
      "authorship_tag": "ABX9TyMlv9ZjH36dhQqr+hV9Z5db",
      "include_colab_link": true
    },
    "kernelspec": {
      "name": "python3",
      "display_name": "Python 3"
    },
    "accelerator": "GPU"
  },
  "cells": [
    {
      "cell_type": "markdown",
      "metadata": {
        "id": "view-in-github",
        "colab_type": "text"
      },
      "source": [
        "<a href=\"https://colab.research.google.com/github/Ankan1998/Autoencoders/blob/main/Denoising_Autoencoders.ipynb\" target=\"_parent\"><img src=\"https://colab.research.google.com/assets/colab-badge.svg\" alt=\"Open In Colab\"/></a>"
      ]
    },
    {
      "cell_type": "code",
      "metadata": {
        "id": "9tyA95V_8dn1"
      },
      "source": [
        "import numpy as np\n",
        "import matplotlib.pyplot as plt\n",
        "from tqdm import tqdm\n",
        "from torchvision import transforms\n",
        "import torch.nn as nn\n",
        "from torch.utils.data import DataLoader,Dataset\n",
        "import torch\n",
        "import torch.optim as optim\n",
        "#from torch.autograd import Variable"
      ],
      "execution_count": 1,
      "outputs": []
    },
    {
      "cell_type": "code",
      "metadata": {
        "id": "UXxbsRQ5RojA"
      },
      "source": [
        "class denoising_model(nn.Module):\n",
        "  def __init__(self):\n",
        "    super(denoising_model,self).__init__()\n",
        "    self.encoder=nn.Sequential(\n",
        "                  nn.Linear(28*28,256),\n",
        "                  nn.ReLU(True),\n",
        "                  nn.Linear(256,128),\n",
        "                  nn.ReLU(True),\n",
        "                  nn.Linear(128,64),\n",
        "                  nn.ReLU(True)\n",
        "        \n",
        "                  )\n",
        "    \n",
        "    self.decoder=nn.Sequential(\n",
        "                  nn.Linear(64,128),\n",
        "                  nn.ReLU(True),\n",
        "                  nn.Linear(128,256),\n",
        "                  nn.ReLU(True),\n",
        "                  nn.Linear(256,28*28),\n",
        "                  nn.Sigmoid(),\n",
        "                  )\n",
        "    \n",
        " \n",
        "  def forward(self,x):\n",
        "    x=self.encoder(x)\n",
        "    x=self.decoder(x)\n",
        "    \n",
        "    return x"
      ],
      "execution_count": 2,
      "outputs": []
    },
    {
      "cell_type": "code",
      "metadata": {
        "id": "iXCWd6XtR2Y7"
      },
      "source": [
        "model=denoising_model()"
      ],
      "execution_count": 4,
      "outputs": []
    },
    {
      "cell_type": "code",
      "metadata": {
        "id": "FREVttT-R7R2"
      },
      "source": [
        "device=\"cuda\"\n",
        "model=model.to(device)"
      ],
      "execution_count": 5,
      "outputs": []
    },
    {
      "cell_type": "code",
      "metadata": {
        "id": "6b2xkEL3Ru_P"
      },
      "source": [
        "from torchsummary import summary"
      ],
      "execution_count": 3,
      "outputs": []
    }
  ]
}